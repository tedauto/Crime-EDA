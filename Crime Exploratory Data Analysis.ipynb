{
 "cells": [
  {
   "cell_type": "code",
   "execution_count": 1,
   "id": "6333b0c9",
   "metadata": {},
   "outputs": [],
   "source": [
    "# importing the relevant libraries\n",
    "import pandas as pd\n",
    "import numpy as np\n",
    "import matplotlib.pyplot as plt\n",
    "import seaborn as sns"
   ]
  },
  {
   "cell_type": "code",
   "execution_count": 4,
   "id": "2f5e17e6",
   "metadata": {},
   "outputs": [],
   "source": [
    "df = pd.read_csv(\"crime.csv\",encoding = 'iso-8859-1') # importing the data"
   ]
  },
  {
   "cell_type": "code",
   "execution_count": 5,
   "id": "369f6fe9",
   "metadata": {},
   "outputs": [
    {
     "data": {
      "text/html": [
       "<div>\n",
       "<style scoped>\n",
       "    .dataframe tbody tr th:only-of-type {\n",
       "        vertical-align: middle;\n",
       "    }\n",
       "\n",
       "    .dataframe tbody tr th {\n",
       "        vertical-align: top;\n",
       "    }\n",
       "\n",
       "    .dataframe thead th {\n",
       "        text-align: right;\n",
       "    }\n",
       "</style>\n",
       "<table border=\"1\" class=\"dataframe\">\n",
       "  <thead>\n",
       "    <tr style=\"text-align: right;\">\n",
       "      <th></th>\n",
       "      <th>INCIDENT_NUMBER</th>\n",
       "      <th>OFFENSE_CODE</th>\n",
       "      <th>OFFENSE_CODE_GROUP</th>\n",
       "      <th>OFFENSE_DESCRIPTION</th>\n",
       "      <th>DISTRICT</th>\n",
       "      <th>REPORTING_AREA</th>\n",
       "      <th>SHOOTING</th>\n",
       "      <th>OCCURRED_ON_DATE</th>\n",
       "      <th>YEAR</th>\n",
       "      <th>MONTH</th>\n",
       "      <th>DAY_OF_WEEK</th>\n",
       "      <th>HOUR</th>\n",
       "      <th>UCR_PART</th>\n",
       "      <th>STREET</th>\n",
       "      <th>Lat</th>\n",
       "      <th>Long</th>\n",
       "      <th>Location</th>\n",
       "    </tr>\n",
       "  </thead>\n",
       "  <tbody>\n",
       "    <tr>\n",
       "      <th>0</th>\n",
       "      <td>I182070945</td>\n",
       "      <td>619</td>\n",
       "      <td>Larceny</td>\n",
       "      <td>LARCENY ALL OTHERS</td>\n",
       "      <td>D14</td>\n",
       "      <td>808</td>\n",
       "      <td>NaN</td>\n",
       "      <td>2018-09-02 13:00:00</td>\n",
       "      <td>2018</td>\n",
       "      <td>9</td>\n",
       "      <td>Sunday</td>\n",
       "      <td>13</td>\n",
       "      <td>Part One</td>\n",
       "      <td>LINCOLN ST</td>\n",
       "      <td>42.357791</td>\n",
       "      <td>-71.139371</td>\n",
       "      <td>(42.35779134, -71.13937053)</td>\n",
       "    </tr>\n",
       "    <tr>\n",
       "      <th>1</th>\n",
       "      <td>I182070943</td>\n",
       "      <td>1402</td>\n",
       "      <td>Vandalism</td>\n",
       "      <td>VANDALISM</td>\n",
       "      <td>C11</td>\n",
       "      <td>347</td>\n",
       "      <td>NaN</td>\n",
       "      <td>2018-08-21 00:00:00</td>\n",
       "      <td>2018</td>\n",
       "      <td>8</td>\n",
       "      <td>Tuesday</td>\n",
       "      <td>0</td>\n",
       "      <td>Part Two</td>\n",
       "      <td>HECLA ST</td>\n",
       "      <td>42.306821</td>\n",
       "      <td>-71.060300</td>\n",
       "      <td>(42.30682138, -71.06030035)</td>\n",
       "    </tr>\n",
       "    <tr>\n",
       "      <th>2</th>\n",
       "      <td>I182070941</td>\n",
       "      <td>3410</td>\n",
       "      <td>Towed</td>\n",
       "      <td>TOWED MOTOR VEHICLE</td>\n",
       "      <td>D4</td>\n",
       "      <td>151</td>\n",
       "      <td>NaN</td>\n",
       "      <td>2018-09-03 19:27:00</td>\n",
       "      <td>2018</td>\n",
       "      <td>9</td>\n",
       "      <td>Monday</td>\n",
       "      <td>19</td>\n",
       "      <td>Part Three</td>\n",
       "      <td>CAZENOVE ST</td>\n",
       "      <td>42.346589</td>\n",
       "      <td>-71.072429</td>\n",
       "      <td>(42.34658879, -71.07242943)</td>\n",
       "    </tr>\n",
       "    <tr>\n",
       "      <th>3</th>\n",
       "      <td>I182070940</td>\n",
       "      <td>3114</td>\n",
       "      <td>Investigate Property</td>\n",
       "      <td>INVESTIGATE PROPERTY</td>\n",
       "      <td>D4</td>\n",
       "      <td>272</td>\n",
       "      <td>NaN</td>\n",
       "      <td>2018-09-03 21:16:00</td>\n",
       "      <td>2018</td>\n",
       "      <td>9</td>\n",
       "      <td>Monday</td>\n",
       "      <td>21</td>\n",
       "      <td>Part Three</td>\n",
       "      <td>NEWCOMB ST</td>\n",
       "      <td>42.334182</td>\n",
       "      <td>-71.078664</td>\n",
       "      <td>(42.33418175, -71.07866441)</td>\n",
       "    </tr>\n",
       "    <tr>\n",
       "      <th>4</th>\n",
       "      <td>I182070938</td>\n",
       "      <td>3114</td>\n",
       "      <td>Investigate Property</td>\n",
       "      <td>INVESTIGATE PROPERTY</td>\n",
       "      <td>B3</td>\n",
       "      <td>421</td>\n",
       "      <td>NaN</td>\n",
       "      <td>2018-09-03 21:05:00</td>\n",
       "      <td>2018</td>\n",
       "      <td>9</td>\n",
       "      <td>Monday</td>\n",
       "      <td>21</td>\n",
       "      <td>Part Three</td>\n",
       "      <td>DELHI ST</td>\n",
       "      <td>42.275365</td>\n",
       "      <td>-71.090361</td>\n",
       "      <td>(42.27536542, -71.09036101)</td>\n",
       "    </tr>\n",
       "    <tr>\n",
       "      <th>...</th>\n",
       "      <td>...</td>\n",
       "      <td>...</td>\n",
       "      <td>...</td>\n",
       "      <td>...</td>\n",
       "      <td>...</td>\n",
       "      <td>...</td>\n",
       "      <td>...</td>\n",
       "      <td>...</td>\n",
       "      <td>...</td>\n",
       "      <td>...</td>\n",
       "      <td>...</td>\n",
       "      <td>...</td>\n",
       "      <td>...</td>\n",
       "      <td>...</td>\n",
       "      <td>...</td>\n",
       "      <td>...</td>\n",
       "      <td>...</td>\n",
       "    </tr>\n",
       "    <tr>\n",
       "      <th>319068</th>\n",
       "      <td>I050310906-00</td>\n",
       "      <td>3125</td>\n",
       "      <td>Warrant Arrests</td>\n",
       "      <td>WARRANT ARREST</td>\n",
       "      <td>D4</td>\n",
       "      <td>285</td>\n",
       "      <td>NaN</td>\n",
       "      <td>2016-06-05 17:25:00</td>\n",
       "      <td>2016</td>\n",
       "      <td>6</td>\n",
       "      <td>Sunday</td>\n",
       "      <td>17</td>\n",
       "      <td>Part Three</td>\n",
       "      <td>COVENTRY ST</td>\n",
       "      <td>42.336951</td>\n",
       "      <td>-71.085748</td>\n",
       "      <td>(42.33695098, -71.08574813)</td>\n",
       "    </tr>\n",
       "    <tr>\n",
       "      <th>319069</th>\n",
       "      <td>I030217815-08</td>\n",
       "      <td>111</td>\n",
       "      <td>Homicide</td>\n",
       "      <td>MURDER, NON-NEGLIGIENT MANSLAUGHTER</td>\n",
       "      <td>E18</td>\n",
       "      <td>520</td>\n",
       "      <td>NaN</td>\n",
       "      <td>2015-07-09 13:38:00</td>\n",
       "      <td>2015</td>\n",
       "      <td>7</td>\n",
       "      <td>Thursday</td>\n",
       "      <td>13</td>\n",
       "      <td>Part One</td>\n",
       "      <td>RIVER ST</td>\n",
       "      <td>42.255926</td>\n",
       "      <td>-71.123172</td>\n",
       "      <td>(42.25592648, -71.12317207)</td>\n",
       "    </tr>\n",
       "    <tr>\n",
       "      <th>319070</th>\n",
       "      <td>I030217815-08</td>\n",
       "      <td>3125</td>\n",
       "      <td>Warrant Arrests</td>\n",
       "      <td>WARRANT ARREST</td>\n",
       "      <td>E18</td>\n",
       "      <td>520</td>\n",
       "      <td>NaN</td>\n",
       "      <td>2015-07-09 13:38:00</td>\n",
       "      <td>2015</td>\n",
       "      <td>7</td>\n",
       "      <td>Thursday</td>\n",
       "      <td>13</td>\n",
       "      <td>Part Three</td>\n",
       "      <td>RIVER ST</td>\n",
       "      <td>42.255926</td>\n",
       "      <td>-71.123172</td>\n",
       "      <td>(42.25592648, -71.12317207)</td>\n",
       "    </tr>\n",
       "    <tr>\n",
       "      <th>319071</th>\n",
       "      <td>I010370257-00</td>\n",
       "      <td>3125</td>\n",
       "      <td>Warrant Arrests</td>\n",
       "      <td>WARRANT ARREST</td>\n",
       "      <td>E13</td>\n",
       "      <td>569</td>\n",
       "      <td>NaN</td>\n",
       "      <td>2016-05-31 19:35:00</td>\n",
       "      <td>2016</td>\n",
       "      <td>5</td>\n",
       "      <td>Tuesday</td>\n",
       "      <td>19</td>\n",
       "      <td>Part Three</td>\n",
       "      <td>NEW WASHINGTON ST</td>\n",
       "      <td>42.302333</td>\n",
       "      <td>-71.111565</td>\n",
       "      <td>(42.30233307, -71.11156487)</td>\n",
       "    </tr>\n",
       "    <tr>\n",
       "      <th>319072</th>\n",
       "      <td>142052550</td>\n",
       "      <td>3125</td>\n",
       "      <td>Warrant Arrests</td>\n",
       "      <td>WARRANT ARREST</td>\n",
       "      <td>D4</td>\n",
       "      <td>903</td>\n",
       "      <td>NaN</td>\n",
       "      <td>2015-06-22 00:12:00</td>\n",
       "      <td>2015</td>\n",
       "      <td>6</td>\n",
       "      <td>Monday</td>\n",
       "      <td>0</td>\n",
       "      <td>Part Three</td>\n",
       "      <td>WASHINGTON ST</td>\n",
       "      <td>42.333839</td>\n",
       "      <td>-71.080290</td>\n",
       "      <td>(42.33383935, -71.08029038)</td>\n",
       "    </tr>\n",
       "  </tbody>\n",
       "</table>\n",
       "<p>319073 rows × 17 columns</p>\n",
       "</div>"
      ],
      "text/plain": [
       "       INCIDENT_NUMBER  OFFENSE_CODE    OFFENSE_CODE_GROUP  \\\n",
       "0           I182070945           619               Larceny   \n",
       "1           I182070943          1402             Vandalism   \n",
       "2           I182070941          3410                 Towed   \n",
       "3           I182070940          3114  Investigate Property   \n",
       "4           I182070938          3114  Investigate Property   \n",
       "...                ...           ...                   ...   \n",
       "319068   I050310906-00          3125       Warrant Arrests   \n",
       "319069   I030217815-08           111              Homicide   \n",
       "319070   I030217815-08          3125       Warrant Arrests   \n",
       "319071   I010370257-00          3125       Warrant Arrests   \n",
       "319072       142052550          3125       Warrant Arrests   \n",
       "\n",
       "                        OFFENSE_DESCRIPTION DISTRICT REPORTING_AREA SHOOTING  \\\n",
       "0                        LARCENY ALL OTHERS      D14            808      NaN   \n",
       "1                                 VANDALISM      C11            347      NaN   \n",
       "2                       TOWED MOTOR VEHICLE       D4            151      NaN   \n",
       "3                      INVESTIGATE PROPERTY       D4            272      NaN   \n",
       "4                      INVESTIGATE PROPERTY       B3            421      NaN   \n",
       "...                                     ...      ...            ...      ...   \n",
       "319068                       WARRANT ARREST       D4            285      NaN   \n",
       "319069  MURDER, NON-NEGLIGIENT MANSLAUGHTER      E18            520      NaN   \n",
       "319070                       WARRANT ARREST      E18            520      NaN   \n",
       "319071                       WARRANT ARREST      E13            569      NaN   \n",
       "319072                       WARRANT ARREST       D4            903      NaN   \n",
       "\n",
       "           OCCURRED_ON_DATE  YEAR  MONTH DAY_OF_WEEK  HOUR    UCR_PART  \\\n",
       "0       2018-09-02 13:00:00  2018      9      Sunday    13    Part One   \n",
       "1       2018-08-21 00:00:00  2018      8     Tuesday     0    Part Two   \n",
       "2       2018-09-03 19:27:00  2018      9      Monday    19  Part Three   \n",
       "3       2018-09-03 21:16:00  2018      9      Monday    21  Part Three   \n",
       "4       2018-09-03 21:05:00  2018      9      Monday    21  Part Three   \n",
       "...                     ...   ...    ...         ...   ...         ...   \n",
       "319068  2016-06-05 17:25:00  2016      6      Sunday    17  Part Three   \n",
       "319069  2015-07-09 13:38:00  2015      7    Thursday    13    Part One   \n",
       "319070  2015-07-09 13:38:00  2015      7    Thursday    13  Part Three   \n",
       "319071  2016-05-31 19:35:00  2016      5     Tuesday    19  Part Three   \n",
       "319072  2015-06-22 00:12:00  2015      6      Monday     0  Part Three   \n",
       "\n",
       "                   STREET        Lat       Long                     Location  \n",
       "0              LINCOLN ST  42.357791 -71.139371  (42.35779134, -71.13937053)  \n",
       "1                HECLA ST  42.306821 -71.060300  (42.30682138, -71.06030035)  \n",
       "2             CAZENOVE ST  42.346589 -71.072429  (42.34658879, -71.07242943)  \n",
       "3              NEWCOMB ST  42.334182 -71.078664  (42.33418175, -71.07866441)  \n",
       "4                DELHI ST  42.275365 -71.090361  (42.27536542, -71.09036101)  \n",
       "...                   ...        ...        ...                          ...  \n",
       "319068        COVENTRY ST  42.336951 -71.085748  (42.33695098, -71.08574813)  \n",
       "319069           RIVER ST  42.255926 -71.123172  (42.25592648, -71.12317207)  \n",
       "319070           RIVER ST  42.255926 -71.123172  (42.25592648, -71.12317207)  \n",
       "319071  NEW WASHINGTON ST  42.302333 -71.111565  (42.30233307, -71.11156487)  \n",
       "319072      WASHINGTON ST  42.333839 -71.080290  (42.33383935, -71.08029038)  \n",
       "\n",
       "[319073 rows x 17 columns]"
      ]
     },
     "execution_count": 5,
     "metadata": {},
     "output_type": "execute_result"
    }
   ],
   "source": [
    "df # checking the data outlook"
   ]
  },
  {
   "cell_type": "code",
   "execution_count": 6,
   "id": "fadd599d",
   "metadata": {},
   "outputs": [
    {
     "data": {
      "text/plain": [
       "(319073, 17)"
      ]
     },
     "execution_count": 6,
     "metadata": {},
     "output_type": "execute_result"
    }
   ],
   "source": [
    "df.shape"
   ]
  },
  {
   "cell_type": "code",
   "execution_count": 7,
   "id": "895ff860",
   "metadata": {},
   "outputs": [
    {
     "data": {
      "text/plain": [
       "23"
      ]
     },
     "execution_count": 7,
     "metadata": {},
     "output_type": "execute_result"
    }
   ],
   "source": [
    "df.duplicated().sum() #checking for duplicates "
   ]
  },
  {
   "cell_type": "code",
   "execution_count": 8,
   "id": "a1187673",
   "metadata": {},
   "outputs": [],
   "source": [
    "df.drop_duplicates(inplace = True) # dropping the duplicates"
   ]
  },
  {
   "cell_type": "code",
   "execution_count": 9,
   "id": "f1724552",
   "metadata": {},
   "outputs": [
    {
     "data": {
      "text/plain": [
       "0"
      ]
     },
     "execution_count": 9,
     "metadata": {},
     "output_type": "execute_result"
    }
   ],
   "source": [
    "df.duplicated().sum() # confirming the duplicates have been removed"
   ]
  },
  {
   "cell_type": "code",
   "execution_count": 10,
   "id": "ec8463f5",
   "metadata": {},
   "outputs": [
    {
     "data": {
      "text/plain": [
       "(319050, 17)"
      ]
     },
     "execution_count": 10,
     "metadata": {},
     "output_type": "execute_result"
    }
   ],
   "source": [
    "df.shape # shape of the data frame changed after dropping the duplicates"
   ]
  },
  {
   "cell_type": "code",
   "execution_count": 12,
   "id": "638b404c",
   "metadata": {},
   "outputs": [
    {
     "name": "stdout",
     "output_type": "stream",
     "text": [
      "<class 'pandas.core.frame.DataFrame'>\n",
      "Index: 319050 entries, 0 to 319072\n",
      "Data columns (total 17 columns):\n",
      " #   Column               Non-Null Count   Dtype  \n",
      "---  ------               --------------   -----  \n",
      " 0   INCIDENT_NUMBER      319050 non-null  object \n",
      " 1   OFFENSE_CODE         319050 non-null  int64  \n",
      " 2   OFFENSE_CODE_GROUP   319050 non-null  object \n",
      " 3   OFFENSE_DESCRIPTION  319050 non-null  object \n",
      " 4   DISTRICT             317285 non-null  object \n",
      " 5   REPORTING_AREA       319050 non-null  object \n",
      " 6   SHOOTING             1019 non-null    object \n",
      " 7   OCCURRED_ON_DATE     319050 non-null  object \n",
      " 8   YEAR                 319050 non-null  int64  \n",
      " 9   MONTH                319050 non-null  int64  \n",
      " 10  DAY_OF_WEEK          319050 non-null  object \n",
      " 11  HOUR                 319050 non-null  int64  \n",
      " 12  UCR_PART             318960 non-null  object \n",
      " 13  STREET               308179 non-null  object \n",
      " 14  Lat                  299052 non-null  float64\n",
      " 15  Long                 299052 non-null  float64\n",
      " 16  Location             319050 non-null  object \n",
      "dtypes: float64(2), int64(4), object(11)\n",
      "memory usage: 43.8+ MB\n"
     ]
    }
   ],
   "source": [
    "df.info()"
   ]
  },
  {
   "cell_type": "code",
   "execution_count": 13,
   "id": "abc21412",
   "metadata": {},
   "outputs": [
    {
     "data": {
      "text/plain": [
       "INCIDENT_NUMBER             0\n",
       "OFFENSE_CODE                0\n",
       "OFFENSE_CODE_GROUP          0\n",
       "OFFENSE_DESCRIPTION         0\n",
       "DISTRICT                 1765\n",
       "REPORTING_AREA              0\n",
       "SHOOTING               318031\n",
       "OCCURRED_ON_DATE            0\n",
       "YEAR                        0\n",
       "MONTH                       0\n",
       "DAY_OF_WEEK                 0\n",
       "HOUR                        0\n",
       "UCR_PART                   90\n",
       "STREET                  10871\n",
       "Lat                     19998\n",
       "Long                    19998\n",
       "Location                    0\n",
       "dtype: int64"
      ]
     },
     "execution_count": 13,
     "metadata": {},
     "output_type": "execute_result"
    }
   ],
   "source": [
    "df.isnull().sum() checking for null values"
   ]
  },
  {
   "cell_type": "code",
   "execution_count": 14,
   "id": "bca5ad15",
   "metadata": {},
   "outputs": [],
   "source": [
    "df.OCCURRED_ON_DATE = pd.to_datetime(df.OCCURRED_ON_DATE)"
   ]
  },
  {
   "cell_type": "code",
   "execution_count": 20,
   "id": "5c13832d",
   "metadata": {},
   "outputs": [
    {
     "data": {
      "text/plain": [
       "dtype('<M8[ns]')"
      ]
     },
     "execution_count": 20,
     "metadata": {},
     "output_type": "execute_result"
    }
   ],
   "source": [
    "df['OCCURRED_ON_DATE'].dtype # confirming the date datatype"
   ]
  },
  {
   "cell_type": "code",
   "execution_count": 24,
   "id": "55aa64db",
   "metadata": {},
   "outputs": [
    {
     "data": {
      "text/plain": [
       "0         2018\n",
       "1         2018\n",
       "2         2018\n",
       "3         2018\n",
       "4         2018\n",
       "          ... \n",
       "319068    2016\n",
       "319069    2015\n",
       "319070    2015\n",
       "319071    2016\n",
       "319072    2015\n",
       "Name: OCCURRED_ON_DATE, Length: 319050, dtype: int32"
      ]
     },
     "execution_count": 24,
     "metadata": {},
     "output_type": "execute_result"
    }
   ],
   "source": [
    "df.OCCURRED_ON_DATE.dt.year # extracting year from date"
   ]
  },
  {
   "cell_type": "code",
   "execution_count": 25,
   "id": "1f31ef6f",
   "metadata": {},
   "outputs": [
    {
     "data": {
      "text/plain": [
       "0         9\n",
       "1         8\n",
       "2         9\n",
       "3         9\n",
       "4         9\n",
       "         ..\n",
       "319068    6\n",
       "319069    7\n",
       "319070    7\n",
       "319071    5\n",
       "319072    6\n",
       "Name: OCCURRED_ON_DATE, Length: 319050, dtype: int32"
      ]
     },
     "execution_count": 25,
     "metadata": {},
     "output_type": "execute_result"
    }
   ],
   "source": [
    "df.OCCURRED_ON_DATE.dt.month"
   ]
  },
  {
   "cell_type": "code",
   "execution_count": 28,
   "id": "d74342cf",
   "metadata": {},
   "outputs": [
    {
     "data": {
      "text/plain": [
       "0         13\n",
       "1          0\n",
       "2         19\n",
       "3         21\n",
       "4         21\n",
       "          ..\n",
       "319068    17\n",
       "319069    13\n",
       "319070    13\n",
       "319071    19\n",
       "319072     0\n",
       "Name: OCCURRED_ON_DATE, Length: 319050, dtype: int32"
      ]
     },
     "execution_count": 28,
     "metadata": {},
     "output_type": "execute_result"
    }
   ],
   "source": [
    "df.OCCURRED_ON_DATE.dt.hour # extracting hour from date"
   ]
  },
  {
   "cell_type": "code",
   "execution_count": 29,
   "id": "aef28db9",
   "metadata": {},
   "outputs": [
    {
     "data": {
      "text/plain": [
       "0          0\n",
       "1          0\n",
       "2         27\n",
       "3         16\n",
       "4          5\n",
       "          ..\n",
       "319068    25\n",
       "319069    38\n",
       "319070    38\n",
       "319071    35\n",
       "319072    12\n",
       "Name: OCCURRED_ON_DATE, Length: 319050, dtype: int32"
      ]
     },
     "execution_count": 29,
     "metadata": {},
     "output_type": "execute_result"
    }
   ],
   "source": [
    "df.OCCURRED_ON_DATE.dt.minute # extracting the minute from date"
   ]
  },
  {
   "cell_type": "code",
   "execution_count": 30,
   "id": "eb89204b",
   "metadata": {},
   "outputs": [
    {
     "data": {
      "text/html": [
       "<div>\n",
       "<style scoped>\n",
       "    .dataframe tbody tr th:only-of-type {\n",
       "        vertical-align: middle;\n",
       "    }\n",
       "\n",
       "    .dataframe tbody tr th {\n",
       "        vertical-align: top;\n",
       "    }\n",
       "\n",
       "    .dataframe thead th {\n",
       "        text-align: right;\n",
       "    }\n",
       "</style>\n",
       "<table border=\"1\" class=\"dataframe\">\n",
       "  <thead>\n",
       "    <tr style=\"text-align: right;\">\n",
       "      <th></th>\n",
       "      <th>OFFENSE_CODE</th>\n",
       "      <th>OCCURRED_ON_DATE</th>\n",
       "      <th>YEAR</th>\n",
       "      <th>MONTH</th>\n",
       "      <th>HOUR</th>\n",
       "      <th>Lat</th>\n",
       "      <th>Long</th>\n",
       "    </tr>\n",
       "  </thead>\n",
       "  <tbody>\n",
       "    <tr>\n",
       "      <th>count</th>\n",
       "      <td>319050.000000</td>\n",
       "      <td>319050</td>\n",
       "      <td>319050.000000</td>\n",
       "      <td>319050.000000</td>\n",
       "      <td>319050.000000</td>\n",
       "      <td>299052.000000</td>\n",
       "      <td>299052.000000</td>\n",
       "    </tr>\n",
       "    <tr>\n",
       "      <th>mean</th>\n",
       "      <td>2317.516957</td>\n",
       "      <td>2017-01-25 12:35:59.149211904</td>\n",
       "      <td>2016.560674</td>\n",
       "      <td>6.609622</td>\n",
       "      <td>13.118176</td>\n",
       "      <td>42.214373</td>\n",
       "      <td>-70.908260</td>\n",
       "    </tr>\n",
       "    <tr>\n",
       "      <th>min</th>\n",
       "      <td>111.000000</td>\n",
       "      <td>2015-06-15 00:00:00</td>\n",
       "      <td>2015.000000</td>\n",
       "      <td>1.000000</td>\n",
       "      <td>0.000000</td>\n",
       "      <td>-1.000000</td>\n",
       "      <td>-71.178674</td>\n",
       "    </tr>\n",
       "    <tr>\n",
       "      <th>25%</th>\n",
       "      <td>1001.000000</td>\n",
       "      <td>2016-04-12 03:30:00</td>\n",
       "      <td>2016.000000</td>\n",
       "      <td>4.000000</td>\n",
       "      <td>9.000000</td>\n",
       "      <td>42.297438</td>\n",
       "      <td>-71.097135</td>\n",
       "    </tr>\n",
       "    <tr>\n",
       "      <th>50%</th>\n",
       "      <td>2907.000000</td>\n",
       "      <td>2017-01-28 04:36:00</td>\n",
       "      <td>2017.000000</td>\n",
       "      <td>7.000000</td>\n",
       "      <td>14.000000</td>\n",
       "      <td>42.325538</td>\n",
       "      <td>-71.077524</td>\n",
       "    </tr>\n",
       "    <tr>\n",
       "      <th>75%</th>\n",
       "      <td>3201.000000</td>\n",
       "      <td>2017-11-05 18:39:00</td>\n",
       "      <td>2017.000000</td>\n",
       "      <td>9.000000</td>\n",
       "      <td>18.000000</td>\n",
       "      <td>42.348624</td>\n",
       "      <td>-71.062467</td>\n",
       "    </tr>\n",
       "    <tr>\n",
       "      <th>max</th>\n",
       "      <td>3831.000000</td>\n",
       "      <td>2018-09-03 21:25:00</td>\n",
       "      <td>2018.000000</td>\n",
       "      <td>12.000000</td>\n",
       "      <td>23.000000</td>\n",
       "      <td>42.395042</td>\n",
       "      <td>-1.000000</td>\n",
       "    </tr>\n",
       "    <tr>\n",
       "      <th>std</th>\n",
       "      <td>1185.308921</td>\n",
       "      <td>NaN</td>\n",
       "      <td>0.996312</td>\n",
       "      <td>3.273677</td>\n",
       "      <td>6.294258</td>\n",
       "      <td>2.159845</td>\n",
       "      <td>3.493746</td>\n",
       "    </tr>\n",
       "  </tbody>\n",
       "</table>\n",
       "</div>"
      ],
      "text/plain": [
       "        OFFENSE_CODE               OCCURRED_ON_DATE           YEAR  \\\n",
       "count  319050.000000                         319050  319050.000000   \n",
       "mean     2317.516957  2017-01-25 12:35:59.149211904    2016.560674   \n",
       "min       111.000000            2015-06-15 00:00:00    2015.000000   \n",
       "25%      1001.000000            2016-04-12 03:30:00    2016.000000   \n",
       "50%      2907.000000            2017-01-28 04:36:00    2017.000000   \n",
       "75%      3201.000000            2017-11-05 18:39:00    2017.000000   \n",
       "max      3831.000000            2018-09-03 21:25:00    2018.000000   \n",
       "std      1185.308921                            NaN       0.996312   \n",
       "\n",
       "               MONTH           HOUR            Lat           Long  \n",
       "count  319050.000000  319050.000000  299052.000000  299052.000000  \n",
       "mean        6.609622      13.118176      42.214373     -70.908260  \n",
       "min         1.000000       0.000000      -1.000000     -71.178674  \n",
       "25%         4.000000       9.000000      42.297438     -71.097135  \n",
       "50%         7.000000      14.000000      42.325538     -71.077524  \n",
       "75%         9.000000      18.000000      42.348624     -71.062467  \n",
       "max        12.000000      23.000000      42.395042      -1.000000  \n",
       "std         3.273677       6.294258       2.159845       3.493746  "
      ]
     },
     "execution_count": 30,
     "metadata": {},
     "output_type": "execute_result"
    }
   ],
   "source": [
    "df.describe() # summary for numerical variables"
   ]
  },
  {
   "cell_type": "code",
   "execution_count": 31,
   "id": "03fc44ca",
   "metadata": {},
   "outputs": [
    {
     "data": {
      "text/plain": [
       "Index(['INCIDENT_NUMBER', 'OFFENSE_CODE', 'OFFENSE_CODE_GROUP',\n",
       "       'OFFENSE_DESCRIPTION', 'DISTRICT', 'REPORTING_AREA', 'SHOOTING',\n",
       "       'OCCURRED_ON_DATE', 'YEAR', 'MONTH', 'DAY_OF_WEEK', 'HOUR', 'UCR_PART',\n",
       "       'STREET', 'Lat', 'Long', 'Location'],\n",
       "      dtype='object')"
      ]
     },
     "execution_count": 31,
     "metadata": {},
     "output_type": "execute_result"
    }
   ],
   "source": [
    "df.columns # checking the variable names"
   ]
  },
  {
   "cell_type": "code",
   "execution_count": 32,
   "id": "2d806e58",
   "metadata": {},
   "outputs": [
    {
     "data": {
      "text/html": [
       "<div>\n",
       "<style scoped>\n",
       "    .dataframe tbody tr th:only-of-type {\n",
       "        vertical-align: middle;\n",
       "    }\n",
       "\n",
       "    .dataframe tbody tr th {\n",
       "        vertical-align: top;\n",
       "    }\n",
       "\n",
       "    .dataframe thead th {\n",
       "        text-align: right;\n",
       "    }\n",
       "</style>\n",
       "<table border=\"1\" class=\"dataframe\">\n",
       "  <thead>\n",
       "    <tr style=\"text-align: right;\">\n",
       "      <th></th>\n",
       "      <th>INCIDENT_NUMBER</th>\n",
       "      <th>OFFENSE_CODE_GROUP</th>\n",
       "      <th>OFFENSE_DESCRIPTION</th>\n",
       "      <th>DISTRICT</th>\n",
       "      <th>REPORTING_AREA</th>\n",
       "      <th>SHOOTING</th>\n",
       "      <th>DAY_OF_WEEK</th>\n",
       "      <th>UCR_PART</th>\n",
       "      <th>STREET</th>\n",
       "      <th>Location</th>\n",
       "    </tr>\n",
       "  </thead>\n",
       "  <tbody>\n",
       "    <tr>\n",
       "      <th>count</th>\n",
       "      <td>319050</td>\n",
       "      <td>319050</td>\n",
       "      <td>319050</td>\n",
       "      <td>317285</td>\n",
       "      <td>319050</td>\n",
       "      <td>1019</td>\n",
       "      <td>319050</td>\n",
       "      <td>318960</td>\n",
       "      <td>308179</td>\n",
       "      <td>319050</td>\n",
       "    </tr>\n",
       "    <tr>\n",
       "      <th>unique</th>\n",
       "      <td>282517</td>\n",
       "      <td>67</td>\n",
       "      <td>244</td>\n",
       "      <td>12</td>\n",
       "      <td>879</td>\n",
       "      <td>1</td>\n",
       "      <td>7</td>\n",
       "      <td>4</td>\n",
       "      <td>4657</td>\n",
       "      <td>18194</td>\n",
       "    </tr>\n",
       "    <tr>\n",
       "      <th>top</th>\n",
       "      <td>I162030584</td>\n",
       "      <td>Motor Vehicle Accident Response</td>\n",
       "      <td>SICK/INJURED/MEDICAL - PERSON</td>\n",
       "      <td>B2</td>\n",
       "      <td></td>\n",
       "      <td>Y</td>\n",
       "      <td>Friday</td>\n",
       "      <td>Part Three</td>\n",
       "      <td>WASHINGTON ST</td>\n",
       "      <td>(0.00000000, 0.00000000)</td>\n",
       "    </tr>\n",
       "    <tr>\n",
       "      <th>freq</th>\n",
       "      <td>13</td>\n",
       "      <td>37132</td>\n",
       "      <td>18783</td>\n",
       "      <td>49940</td>\n",
       "      <td>20250</td>\n",
       "      <td>1019</td>\n",
       "      <td>48489</td>\n",
       "      <td>158537</td>\n",
       "      <td>14192</td>\n",
       "      <td>19998</td>\n",
       "    </tr>\n",
       "  </tbody>\n",
       "</table>\n",
       "</div>"
      ],
      "text/plain": [
       "       INCIDENT_NUMBER               OFFENSE_CODE_GROUP  \\\n",
       "count           319050                           319050   \n",
       "unique          282517                               67   \n",
       "top         I162030584  Motor Vehicle Accident Response   \n",
       "freq                13                            37132   \n",
       "\n",
       "                  OFFENSE_DESCRIPTION DISTRICT REPORTING_AREA SHOOTING  \\\n",
       "count                          319050   317285         319050     1019   \n",
       "unique                            244       12            879        1   \n",
       "top     SICK/INJURED/MEDICAL - PERSON       B2                       Y   \n",
       "freq                            18783    49940          20250     1019   \n",
       "\n",
       "       DAY_OF_WEEK    UCR_PART         STREET                  Location  \n",
       "count       319050      318960         308179                    319050  \n",
       "unique           7           4           4657                     18194  \n",
       "top         Friday  Part Three  WASHINGTON ST  (0.00000000, 0.00000000)  \n",
       "freq         48489      158537          14192                     19998  "
      ]
     },
     "execution_count": 32,
     "metadata": {},
     "output_type": "execute_result"
    }
   ],
   "source": [
    "df.describe(include = object) # summary for non-numerical variables"
   ]
  },
  {
   "cell_type": "code",
   "execution_count": 36,
   "id": "c825cf16",
   "metadata": {},
   "outputs": [
    {
     "name": "stdout",
     "output_type": "stream",
     "text": [
      "INCIDENT_NUMBER has 282517 unique values\n",
      "OFFENSE_CODE has 222 unique values\n",
      "OFFENSE_CODE_GROUP has 67 unique values\n",
      "OFFENSE_DESCRIPTION has 244 unique values\n",
      "DISTRICT has 12 unique values\n",
      "REPORTING_AREA has 879 unique values\n",
      "SHOOTING has 1 unique values\n",
      "OCCURRED_ON_DATE has 233229 unique values\n",
      "YEAR has 4 unique values\n",
      "MONTH has 12 unique values\n",
      "DAY_OF_WEEK has 7 unique values\n",
      "HOUR has 24 unique values\n",
      "UCR_PART has 4 unique values\n",
      "STREET has 4657 unique values\n",
      "Lat has 18178 unique values\n",
      "Long has 18178 unique values\n",
      "Location has 18194 unique values\n"
     ]
    }
   ],
   "source": [
    "# checking for unique number of values in each column\n",
    "for col in df.columns:\n",
    "    unique_count = df[col].nunique()\n",
    "    print(col +' has '+ str(unique_count) + ' unique values')"
   ]
  },
  {
   "cell_type": "markdown",
   "id": "4deac7ce",
   "metadata": {},
   "source": [
    "## Questions"
   ]
  },
  {
   "cell_type": "code",
   "execution_count": 38,
   "id": "9222997e",
   "metadata": {},
   "outputs": [
    {
     "data": {
      "text/plain": [
       "OFFENSE_CODE_GROUP\n",
       "Motor Vehicle Accident Response    37132\n",
       "Larceny                            25935\n",
       "Medical Assistance                 23540\n",
       "Investigate Person                 18749\n",
       "Other                              18073\n",
       "Drug Violation                     16545\n",
       "Simple Assault                     15826\n",
       "Vandalism                          15414\n",
       "Verbal Disputes                    13099\n",
       "Towed                              11287\n",
       "Name: count, dtype: int64"
      ]
     },
     "execution_count": 38,
     "metadata": {},
     "output_type": "execute_result"
    }
   ],
   "source": [
    "# What are the most common crimes in terms of offence group?\n",
    "df.OFFENSE_CODE_GROUP.value_counts()[:10]"
   ]
  },
  {
   "cell_type": "code",
   "execution_count": 39,
   "id": "ff85f9b3",
   "metadata": {},
   "outputs": [
    {
     "data": {
      "text/plain": [
       "OFFENSE_CODE_GROUP\n",
       "Motor Vehicle Accident Response    0.116383\n",
       "Larceny                            0.081288\n",
       "Medical Assistance                 0.073782\n",
       "Investigate Person                 0.058765\n",
       "Other                              0.056646\n",
       "Drug Violation                     0.051857\n",
       "Simple Assault                     0.049604\n",
       "Vandalism                          0.048312\n",
       "Verbal Disputes                    0.041056\n",
       "Towed                              0.035377\n",
       "Name: count, dtype: float64"
      ]
     },
     "metadata": {},
     "output_type": "display_data"
    },
    {
     "data": {
      "text/plain": [
       "Text(0.5, 1.0, 'Top 10 offense groups as a % of total crimes')"
      ]
     },
     "execution_count": 39,
     "metadata": {},
     "output_type": "execute_result"
    },
    {
     "data": {
      "image/png": "[encoded data removed]",
      "text/plain": [
       "<Figure size 640x480 with 1 Axes>"
      ]
     },
     "metadata": {},
     "output_type": "display_data"
    }
   ],
   "source": [
    "offense_group_vals = df.OFFENSE_CODE_GROUP.value_counts()[:10]\n",
    "\n",
    "display(offense_group_vals/df.shape[0])\n",
    "\n",
    "(offense_group_vals/df.shape[0]).plot(kind = 'bar')\n",
    "plt.title('Top 10 offense groups as a % of total crimes')\n",
    "\n"
   ]
  },
  {
   "cell_type": "code",
   "execution_count": 40,
   "id": "5ca9f5c3",
   "metadata": {},
   "outputs": [
    {
     "data": {
      "text/plain": [
       "OFFENSE_CODE_GROUP\n",
       "Burglary - No Property Taken                  2\n",
       "HUMAN TRAFFICKING - INVOLUNTARY SERVITUDE     2\n",
       "Biological Threat                             2\n",
       "INVESTIGATE PERSON                            4\n",
       "HUMAN TRAFFICKING                             7\n",
       "Gambling                                      8\n",
       "Manslaughter                                  8\n",
       "Explosives                                   27\n",
       "Phone Call Complaints                        31\n",
       "Aircraft                                     36\n",
       "Name: count, dtype: int64"
      ]
     },
     "execution_count": 40,
     "metadata": {},
     "output_type": "execute_result"
    }
   ],
   "source": [
    "# What are the least common crimes based on offense group?\n",
    "df.OFFENSE_CODE_GROUP.value_counts().sort_values(ascending = True)[:10]"
   ]
  },
  {
   "cell_type": "code",
   "execution_count": 41,
   "id": "820843e5",
   "metadata": {},
   "outputs": [
    {
     "data": {
      "text/plain": [
       "OFFENSE_DESCRIPTION\n",
       "SICK/INJURED/MEDICAL - PERSON            18783\n",
       "INVESTIGATE PERSON                       18753\n",
       "M/V - LEAVING SCENE - PROPERTY DAMAGE    16323\n",
       "VANDALISM                                15153\n",
       "ASSAULT SIMPLE - BATTERY                 14791\n",
       "VERBAL DISPUTE                           13099\n",
       "TOWED MOTOR VEHICLE                      11287\n",
       "INVESTIGATE PROPERTY                     11124\n",
       "LARCENY THEFT FROM BUILDING               9069\n",
       "THREATS TO DO BODILY HARM                 9042\n",
       "Name: count, dtype: int64"
      ]
     },
     "execution_count": 41,
     "metadata": {},
     "output_type": "execute_result"
    }
   ],
   "source": [
    "# What are the most common offense descriptions\n",
    "df.OFFENSE_DESCRIPTION.value_counts()[:10]\n"
   ]
  },
  {
   "cell_type": "code",
   "execution_count": 43,
   "id": "eb8813a6",
   "metadata": {},
   "outputs": [
    {
     "data": {
      "text/plain": [
       "OFFENSE_DESCRIPTION\n",
       "SICK/INJURED/MEDICAL - PERSON            0.058872\n",
       "INVESTIGATE PERSON                       0.058778\n",
       "M/V - LEAVING SCENE - PROPERTY DAMAGE    0.051161\n",
       "VANDALISM                                0.047494\n",
       "ASSAULT SIMPLE - BATTERY                 0.046360\n",
       "VERBAL DISPUTE                           0.041056\n",
       "TOWED MOTOR VEHICLE                      0.035377\n",
       "INVESTIGATE PROPERTY                     0.034866\n",
       "LARCENY THEFT FROM BUILDING              0.028425\n",
       "THREATS TO DO BODILY HARM                0.028340\n",
       "Name: count, dtype: float64"
      ]
     },
     "metadata": {},
     "output_type": "display_data"
    },
    {
     "data": {
      "text/plain": [
       "Text(0.5, 1.0, 'Top 10 offense descriptions as % of the total crimes')"
      ]
     },
     "execution_count": 43,
     "metadata": {},
     "output_type": "execute_result"
    },
    {
     "data": {
      "image/png": "[encoded data removed]",
      "text/plain": [
       "<Figure size 640x480 with 1 Axes>"
      ]
     },
     "metadata": {},
     "output_type": "display_data"
    }
   ],
   "source": [
    "description_vals = df.OFFENSE_DESCRIPTION.value_counts()[:10]\n",
    "\n",
    "display(description_vals/df.shape[0])\n",
    "(description_vals/df.shape[0]).plot(kind = 'bar')\n",
    "plt.title('Top 10 offense descriptions as % of the total crimes')"
   ]
  },
  {
   "cell_type": "code",
   "execution_count": 49,
   "id": "0c235858",
   "metadata": {},
   "outputs": [
    {
     "data": {
      "text/plain": [
       "Text(0.5, 1.0, 'Number of Crimes')"
      ]
     },
     "execution_count": 49,
     "metadata": {},
     "output_type": "execute_result"
    },
    {
     "data": {
      "image/png": "[encoded data removed]",
      "text/plain": [
       "<Figure size 640x480 with 1 Axes>"
      ]
     },
     "metadata": {},
     "output_type": "display_data"
    }
   ],
   "source": [
    "# In wich year were most of the crimes committed?\n",
    "df.groupby('YEAR').count()['INCIDENT_NUMBER'].plot(kind ='bar')\n",
    "plt.title('Number of Crimes')"
   ]
  },
  {
   "cell_type": "code",
   "execution_count": 54,
   "id": "526ee432",
   "metadata": {},
   "outputs": [
    {
     "data": {
      "text/plain": [
       "Text(0.5, 1.0, 'Number of crimes during the week')"
      ]
     },
     "execution_count": 54,
     "metadata": {},
     "output_type": "execute_result"
    },
    {
     "data": {
      "image/png": "[encoded data removed]",
      "text/plain": [
       "<Figure size 640x480 with 1 Axes>"
      ]
     },
     "metadata": {},
     "output_type": "display_data"
    }
   ],
   "source": [
    "# Are there more crimes committed on specific days?\n",
    "df.groupby('DAY_OF_WEEK').count()['INCIDENT_NUMBER'].plot(kind = 'bar')\n",
    "plt.title('Number of crimes during the week')"
   ]
  },
  {
   "cell_type": "code",
   "execution_count": 56,
   "id": "c7d81c92",
   "metadata": {},
   "outputs": [
    {
     "data": {
      "text/plain": [
       "Text(0.5, 1.0, 'Number of crimes')"
      ]
     },
     "execution_count": 56,
     "metadata": {},
     "output_type": "execute_result"
    },
    {
     "data": {
      "image/png": "[encoded data removed]",
      "text/plain": [
       "<Figure size 640x480 with 1 Axes>"
      ]
     },
     "metadata": {},
     "output_type": "display_data"
    }
   ],
   "source": [
    "# Are there more crimes during specific hours?\n",
    "df.groupby('HOUR').count()['INCIDENT_NUMBER'].plot(kind = 'bar')\n",
    "plt.title('Number of crimes')"
   ]
  },
  {
   "cell_type": "code",
   "execution_count": 72,
   "id": "3bc938e8",
   "metadata": {},
   "outputs": [],
   "source": [
    "# On what days and during whcih hours are most crimes committed?\n",
    "week_hours = df.groupby(['HOUR','DAY_OF_WEEK']).count()['INCIDENT_NUMBER'].unstack()"
   ]
  },
  {
   "cell_type": "code",
   "execution_count": 73,
   "id": "c13132b1",
   "metadata": {},
   "outputs": [],
   "source": [
    "week_hours.columns = ['Monday','Tuesday','Wednesday','Thursday','Friday','Saturday','Sunday']"
   ]
  },
  {
   "cell_type": "code",
   "execution_count": 76,
   "id": "bdc4851a",
   "metadata": {},
   "outputs": [
    {
     "data": {
      "text/plain": [
       "<Axes: ylabel='HOUR'>"
      ]
     },
     "execution_count": 76,
     "metadata": {},
     "output_type": "execute_result"
    },
    {
     "data": {
      "image/png": "[encoded data removed]",
      "text/plain": [
       "<Figure size 640x480 with 2 Axes>"
      ]
     },
     "metadata": {},
     "output_type": "display_data"
    }
   ],
   "source": [
    "sns.heatmap(week_hours,cmap = sns.cubehelix_palette(as_cmap=True))"
   ]
  },
  {
   "cell_type": "code",
   "execution_count": 78,
   "id": "0586748b",
   "metadata": {},
   "outputs": [
    {
     "name": "stdout",
     "output_type": "stream",
     "text": [
      "The average number of crimes is 7976.25\n"
     ]
    },
    {
     "data": {
      "text/html": [
       "<style type=\"text/css\">\n",
       "#T_96e89_row0_col1, #T_96e89_row0_col3, #T_96e89_row1_col1, #T_96e89_row1_col2, #T_96e89_row1_col3, #T_96e89_row2_col3, #T_96e89_row3_col3, #T_96e89_row5_col0, #T_96e89_row8_col3, #T_96e89_row10_col0, #T_96e89_row10_col1, #T_96e89_row10_col2, #T_96e89_row11_col1, #T_96e89_row11_col2 {\n",
       "  color: blue;\n",
       "}\n",
       "</style>\n",
       "<table id=\"T_96e89\">\n",
       "  <thead>\n",
       "    <tr>\n",
       "      <th class=\"index_name level0\" >YEAR</th>\n",
       "      <th id=\"T_96e89_level0_col0\" class=\"col_heading level0 col0\" >2015</th>\n",
       "      <th id=\"T_96e89_level0_col1\" class=\"col_heading level0 col1\" >2016</th>\n",
       "      <th id=\"T_96e89_level0_col2\" class=\"col_heading level0 col2\" >2017</th>\n",
       "      <th id=\"T_96e89_level0_col3\" class=\"col_heading level0 col3\" >2018</th>\n",
       "    </tr>\n",
       "    <tr>\n",
       "      <th class=\"index_name level0\" >MONTH</th>\n",
       "      <th class=\"blank col0\" >&nbsp;</th>\n",
       "      <th class=\"blank col1\" >&nbsp;</th>\n",
       "      <th class=\"blank col2\" >&nbsp;</th>\n",
       "      <th class=\"blank col3\" >&nbsp;</th>\n",
       "    </tr>\n",
       "  </thead>\n",
       "  <tbody>\n",
       "    <tr>\n",
       "      <th id=\"T_96e89_level0_row0\" class=\"row_heading level0 row0\" >1</th>\n",
       "      <td id=\"T_96e89_row0_col0\" class=\"data row0 col0\" >nan</td>\n",
       "      <td id=\"T_96e89_row0_col1\" class=\"data row0 col1\" >7835.000000</td>\n",
       "      <td id=\"T_96e89_row0_col2\" class=\"data row0 col2\" >7991.000000</td>\n",
       "      <td id=\"T_96e89_row0_col3\" class=\"data row0 col3\" >7782.000000</td>\n",
       "    </tr>\n",
       "    <tr>\n",
       "      <th id=\"T_96e89_level0_row1\" class=\"row_heading level0 row1\" >2</th>\n",
       "      <td id=\"T_96e89_row1_col0\" class=\"data row1 col0\" >nan</td>\n",
       "      <td id=\"T_96e89_row1_col1\" class=\"data row1 col1\" >7307.000000</td>\n",
       "      <td id=\"T_96e89_row1_col2\" class=\"data row1 col2\" >7408.000000</td>\n",
       "      <td id=\"T_96e89_row1_col3\" class=\"data row1 col3\" >6937.000000</td>\n",
       "    </tr>\n",
       "    <tr>\n",
       "      <th id=\"T_96e89_level0_row2\" class=\"row_heading level0 row2\" >3</th>\n",
       "      <td id=\"T_96e89_row2_col0\" class=\"data row2 col0\" >nan</td>\n",
       "      <td id=\"T_96e89_row2_col1\" class=\"data row2 col1\" >8199.000000</td>\n",
       "      <td id=\"T_96e89_row2_col2\" class=\"data row2 col2\" >8179.000000</td>\n",
       "      <td id=\"T_96e89_row2_col3\" class=\"data row2 col3\" >7768.000000</td>\n",
       "    </tr>\n",
       "    <tr>\n",
       "      <th id=\"T_96e89_level0_row3\" class=\"row_heading level0 row3\" >4</th>\n",
       "      <td id=\"T_96e89_row3_col0\" class=\"data row3 col0\" >nan</td>\n",
       "      <td id=\"T_96e89_row3_col1\" class=\"data row3 col1\" >8101.000000</td>\n",
       "      <td id=\"T_96e89_row3_col2\" class=\"data row3 col2\" >8069.000000</td>\n",
       "      <td id=\"T_96e89_row3_col3\" class=\"data row3 col3\" >7916.000000</td>\n",
       "    </tr>\n",
       "    <tr>\n",
       "      <th id=\"T_96e89_level0_row4\" class=\"row_heading level0 row4\" >5</th>\n",
       "      <td id=\"T_96e89_row4_col0\" class=\"data row4 col0\" >nan</td>\n",
       "      <td id=\"T_96e89_row4_col1\" class=\"data row4 col1\" >8578.000000</td>\n",
       "      <td id=\"T_96e89_row4_col2\" class=\"data row4 col2\" >8715.000000</td>\n",
       "      <td id=\"T_96e89_row4_col3\" class=\"data row4 col3\" >8906.000000</td>\n",
       "    </tr>\n",
       "    <tr>\n",
       "      <th id=\"T_96e89_level0_row5\" class=\"row_heading level0 row5\" >6</th>\n",
       "      <td id=\"T_96e89_row5_col0\" class=\"data row5 col0\" >4188.000000</td>\n",
       "      <td id=\"T_96e89_row5_col1\" class=\"data row5 col1\" >8558.000000</td>\n",
       "      <td id=\"T_96e89_row5_col2\" class=\"data row5 col2\" >8985.000000</td>\n",
       "      <td id=\"T_96e89_row5_col3\" class=\"data row5 col3\" >8834.000000</td>\n",
       "    </tr>\n",
       "    <tr>\n",
       "      <th id=\"T_96e89_level0_row6\" class=\"row_heading level0 row6\" >7</th>\n",
       "      <td id=\"T_96e89_row6_col0\" class=\"data row6 col0\" >8322.000000</td>\n",
       "      <td id=\"T_96e89_row6_col1\" class=\"data row6 col1\" >8618.000000</td>\n",
       "      <td id=\"T_96e89_row6_col2\" class=\"data row6 col2\" >9075.000000</td>\n",
       "      <td id=\"T_96e89_row6_col3\" class=\"data row6 col3\" >8538.000000</td>\n",
       "    </tr>\n",
       "    <tr>\n",
       "      <th id=\"T_96e89_level0_row7\" class=\"row_heading level0 row7\" >8</th>\n",
       "      <td id=\"T_96e89_row7_col0\" class=\"data row7 col0\" >8340.000000</td>\n",
       "      <td id=\"T_96e89_row7_col1\" class=\"data row7 col1\" >8938.000000</td>\n",
       "      <td id=\"T_96e89_row7_col2\" class=\"data row7 col2\" >9206.000000</td>\n",
       "      <td id=\"T_96e89_row7_col3\" class=\"data row7 col3\" >8337.000000</td>\n",
       "    </tr>\n",
       "    <tr>\n",
       "      <th id=\"T_96e89_level0_row8\" class=\"row_heading level0 row8\" >9</th>\n",
       "      <td id=\"T_96e89_row8_col0\" class=\"data row8 col0\" >8411.000000</td>\n",
       "      <td id=\"T_96e89_row8_col1\" class=\"data row8 col1\" >8521.000000</td>\n",
       "      <td id=\"T_96e89_row8_col2\" class=\"data row8 col2\" >8940.000000</td>\n",
       "      <td id=\"T_96e89_row8_col3\" class=\"data row8 col3\" >667.000000</td>\n",
       "    </tr>\n",
       "    <tr>\n",
       "      <th id=\"T_96e89_level0_row9\" class=\"row_heading level0 row9\" >10</th>\n",
       "      <td id=\"T_96e89_row9_col0\" class=\"data row9 col0\" >8305.000000</td>\n",
       "      <td id=\"T_96e89_row9_col1\" class=\"data row9 col1\" >8582.000000</td>\n",
       "      <td id=\"T_96e89_row9_col2\" class=\"data row9 col2\" >8846.000000</td>\n",
       "      <td id=\"T_96e89_row9_col3\" class=\"data row9 col3\" >nan</td>\n",
       "    </tr>\n",
       "    <tr>\n",
       "      <th id=\"T_96e89_level0_row10\" class=\"row_heading level0 row10\" >11</th>\n",
       "      <td id=\"T_96e89_row10_col0\" class=\"data row10 col0\" >7818.000000</td>\n",
       "      <td id=\"T_96e89_row10_col1\" class=\"data row10 col1\" >7922.000000</td>\n",
       "      <td id=\"T_96e89_row10_col2\" class=\"data row10 col2\" >7935.000000</td>\n",
       "      <td id=\"T_96e89_row10_col3\" class=\"data row10 col3\" >nan</td>\n",
       "    </tr>\n",
       "    <tr>\n",
       "      <th id=\"T_96e89_level0_row11\" class=\"row_heading level0 row11\" >12</th>\n",
       "      <td id=\"T_96e89_row11_col0\" class=\"data row11 col0\" >7987.000000</td>\n",
       "      <td id=\"T_96e89_row11_col1\" class=\"data row11 col1\" >7951.000000</td>\n",
       "      <td id=\"T_96e89_row11_col2\" class=\"data row11 col2\" >7535.000000</td>\n",
       "      <td id=\"T_96e89_row11_col3\" class=\"data row11 col3\" >nan</td>\n",
       "    </tr>\n",
       "  </tbody>\n",
       "</table>\n"
      ],
      "text/plain": [
       "<pandas.io.formats.style.Styler at 0x1e53560aed0>"
      ]
     },
     "execution_count": 78,
     "metadata": {},
     "output_type": "execute_result"
    }
   ],
   "source": [
    "# if the value is less than the average crime per month, highlight the value in blue\n",
    "\n",
    "avg_crime = df.groupby(['YEAR', 'MONTH']).count()['INCIDENT_NUMBER'].mean()\n",
    "print(\"The average number of crimes is \" + str(avg_crime))\n",
    "\n",
    "year_and_month = df.groupby(['MONTH', 'YEAR']).count()['INCIDENT_NUMBER'].unstack()\n",
    "\n",
    "def style_negative(v, props=''):\n",
    "    return props if v < avg_crime else None\n",
    "s2 = year_and_month.style.applymap(style_negative, props='color:blue;')\\\n",
    "              .applymap(lambda v: 'opacity: 20%;' if (v < 0.3) and (v > -0.3) else None)\n",
    "s2"
   ]
  },
  {
   "cell_type": "code",
   "execution_count": 79,
   "id": "56f74d02",
   "metadata": {},
   "outputs": [
    {
     "data": {
      "text/html": [
       "<style type=\"text/css\">\n",
       "#T_96e89_row0_col1, #T_96e89_row0_col3, #T_96e89_row1_col1, #T_96e89_row1_col2, #T_96e89_row1_col3, #T_96e89_row2_col3, #T_96e89_row3_col3, #T_96e89_row5_col0, #T_96e89_row8_col3, #T_96e89_row10_col0, #T_96e89_row10_col1, #T_96e89_row10_col2, #T_96e89_row11_col1, #T_96e89_row11_col2 {\n",
       "  color: blue;\n",
       "}\n",
       "#T_96e89_row4_col3, #T_96e89_row7_col1, #T_96e89_row7_col2, #T_96e89_row8_col0 {\n",
       "  color: white;\n",
       "  background-color: darkgreen;\n",
       "}\n",
       "</style>\n",
       "<table id=\"T_96e89\">\n",
       "  <thead>\n",
       "    <tr>\n",
       "      <th class=\"index_name level0\" >YEAR</th>\n",
       "      <th id=\"T_96e89_level0_col0\" class=\"col_heading level0 col0\" >2015</th>\n",
       "      <th id=\"T_96e89_level0_col1\" class=\"col_heading level0 col1\" >2016</th>\n",
       "      <th id=\"T_96e89_level0_col2\" class=\"col_heading level0 col2\" >2017</th>\n",
       "      <th id=\"T_96e89_level0_col3\" class=\"col_heading level0 col3\" >2018</th>\n",
       "    </tr>\n",
       "    <tr>\n",
       "      <th class=\"index_name level0\" >MONTH</th>\n",
       "      <th class=\"blank col0\" >&nbsp;</th>\n",
       "      <th class=\"blank col1\" >&nbsp;</th>\n",
       "      <th class=\"blank col2\" >&nbsp;</th>\n",
       "      <th class=\"blank col3\" >&nbsp;</th>\n",
       "    </tr>\n",
       "  </thead>\n",
       "  <tbody>\n",
       "    <tr>\n",
       "      <th id=\"T_96e89_level0_row0\" class=\"row_heading level0 row0\" >1</th>\n",
       "      <td id=\"T_96e89_row0_col0\" class=\"data row0 col0\" >nan</td>\n",
       "      <td id=\"T_96e89_row0_col1\" class=\"data row0 col1\" >7835.000000</td>\n",
       "      <td id=\"T_96e89_row0_col2\" class=\"data row0 col2\" >7991.000000</td>\n",
       "      <td id=\"T_96e89_row0_col3\" class=\"data row0 col3\" >7782.000000</td>\n",
       "    </tr>\n",
       "    <tr>\n",
       "      <th id=\"T_96e89_level0_row1\" class=\"row_heading level0 row1\" >2</th>\n",
       "      <td id=\"T_96e89_row1_col0\" class=\"data row1 col0\" >nan</td>\n",
       "      <td id=\"T_96e89_row1_col1\" class=\"data row1 col1\" >7307.000000</td>\n",
       "      <td id=\"T_96e89_row1_col2\" class=\"data row1 col2\" >7408.000000</td>\n",
       "      <td id=\"T_96e89_row1_col3\" class=\"data row1 col3\" >6937.000000</td>\n",
       "    </tr>\n",
       "    <tr>\n",
       "      <th id=\"T_96e89_level0_row2\" class=\"row_heading level0 row2\" >3</th>\n",
       "      <td id=\"T_96e89_row2_col0\" class=\"data row2 col0\" >nan</td>\n",
       "      <td id=\"T_96e89_row2_col1\" class=\"data row2 col1\" >8199.000000</td>\n",
       "      <td id=\"T_96e89_row2_col2\" class=\"data row2 col2\" >8179.000000</td>\n",
       "      <td id=\"T_96e89_row2_col3\" class=\"data row2 col3\" >7768.000000</td>\n",
       "    </tr>\n",
       "    <tr>\n",
       "      <th id=\"T_96e89_level0_row3\" class=\"row_heading level0 row3\" >4</th>\n",
       "      <td id=\"T_96e89_row3_col0\" class=\"data row3 col0\" >nan</td>\n",
       "      <td id=\"T_96e89_row3_col1\" class=\"data row3 col1\" >8101.000000</td>\n",
       "      <td id=\"T_96e89_row3_col2\" class=\"data row3 col2\" >8069.000000</td>\n",
       "      <td id=\"T_96e89_row3_col3\" class=\"data row3 col3\" >7916.000000</td>\n",
       "    </tr>\n",
       "    <tr>\n",
       "      <th id=\"T_96e89_level0_row4\" class=\"row_heading level0 row4\" >5</th>\n",
       "      <td id=\"T_96e89_row4_col0\" class=\"data row4 col0\" >nan</td>\n",
       "      <td id=\"T_96e89_row4_col1\" class=\"data row4 col1\" >8578.000000</td>\n",
       "      <td id=\"T_96e89_row4_col2\" class=\"data row4 col2\" >8715.000000</td>\n",
       "      <td id=\"T_96e89_row4_col3\" class=\"data row4 col3\" >8906.000000</td>\n",
       "    </tr>\n",
       "    <tr>\n",
       "      <th id=\"T_96e89_level0_row5\" class=\"row_heading level0 row5\" >6</th>\n",
       "      <td id=\"T_96e89_row5_col0\" class=\"data row5 col0\" >4188.000000</td>\n",
       "      <td id=\"T_96e89_row5_col1\" class=\"data row5 col1\" >8558.000000</td>\n",
       "      <td id=\"T_96e89_row5_col2\" class=\"data row5 col2\" >8985.000000</td>\n",
       "      <td id=\"T_96e89_row5_col3\" class=\"data row5 col3\" >8834.000000</td>\n",
       "    </tr>\n",
       "    <tr>\n",
       "      <th id=\"T_96e89_level0_row6\" class=\"row_heading level0 row6\" >7</th>\n",
       "      <td id=\"T_96e89_row6_col0\" class=\"data row6 col0\" >8322.000000</td>\n",
       "      <td id=\"T_96e89_row6_col1\" class=\"data row6 col1\" >8618.000000</td>\n",
       "      <td id=\"T_96e89_row6_col2\" class=\"data row6 col2\" >9075.000000</td>\n",
       "      <td id=\"T_96e89_row6_col3\" class=\"data row6 col3\" >8538.000000</td>\n",
       "    </tr>\n",
       "    <tr>\n",
       "      <th id=\"T_96e89_level0_row7\" class=\"row_heading level0 row7\" >8</th>\n",
       "      <td id=\"T_96e89_row7_col0\" class=\"data row7 col0\" >8340.000000</td>\n",
       "      <td id=\"T_96e89_row7_col1\" class=\"data row7 col1\" >8938.000000</td>\n",
       "      <td id=\"T_96e89_row7_col2\" class=\"data row7 col2\" >9206.000000</td>\n",
       "      <td id=\"T_96e89_row7_col3\" class=\"data row7 col3\" >8337.000000</td>\n",
       "    </tr>\n",
       "    <tr>\n",
       "      <th id=\"T_96e89_level0_row8\" class=\"row_heading level0 row8\" >9</th>\n",
       "      <td id=\"T_96e89_row8_col0\" class=\"data row8 col0\" >8411.000000</td>\n",
       "      <td id=\"T_96e89_row8_col1\" class=\"data row8 col1\" >8521.000000</td>\n",
       "      <td id=\"T_96e89_row8_col2\" class=\"data row8 col2\" >8940.000000</td>\n",
       "      <td id=\"T_96e89_row8_col3\" class=\"data row8 col3\" >667.000000</td>\n",
       "    </tr>\n",
       "    <tr>\n",
       "      <th id=\"T_96e89_level0_row9\" class=\"row_heading level0 row9\" >10</th>\n",
       "      <td id=\"T_96e89_row9_col0\" class=\"data row9 col0\" >8305.000000</td>\n",
       "      <td id=\"T_96e89_row9_col1\" class=\"data row9 col1\" >8582.000000</td>\n",
       "      <td id=\"T_96e89_row9_col2\" class=\"data row9 col2\" >8846.000000</td>\n",
       "      <td id=\"T_96e89_row9_col3\" class=\"data row9 col3\" >nan</td>\n",
       "    </tr>\n",
       "    <tr>\n",
       "      <th id=\"T_96e89_level0_row10\" class=\"row_heading level0 row10\" >11</th>\n",
       "      <td id=\"T_96e89_row10_col0\" class=\"data row10 col0\" >7818.000000</td>\n",
       "      <td id=\"T_96e89_row10_col1\" class=\"data row10 col1\" >7922.000000</td>\n",
       "      <td id=\"T_96e89_row10_col2\" class=\"data row10 col2\" >7935.000000</td>\n",
       "      <td id=\"T_96e89_row10_col3\" class=\"data row10 col3\" >nan</td>\n",
       "    </tr>\n",
       "    <tr>\n",
       "      <th id=\"T_96e89_level0_row11\" class=\"row_heading level0 row11\" >12</th>\n",
       "      <td id=\"T_96e89_row11_col0\" class=\"data row11 col0\" >7987.000000</td>\n",
       "      <td id=\"T_96e89_row11_col1\" class=\"data row11 col1\" >7951.000000</td>\n",
       "      <td id=\"T_96e89_row11_col2\" class=\"data row11 col2\" >7535.000000</td>\n",
       "      <td id=\"T_96e89_row11_col3\" class=\"data row11 col3\" >nan</td>\n",
       "    </tr>\n",
       "  </tbody>\n",
       "</table>\n"
      ],
      "text/plain": [
       "<pandas.io.formats.style.Styler at 0x1e53560aed0>"
      ]
     },
     "execution_count": 79,
     "metadata": {},
     "output_type": "execute_result"
    }
   ],
   "source": [
    "# Use apply to highlight the maximum in a column in darkgreen\n",
    "\n",
    "def highlight_max(s, props=''):\n",
    "    return np.where(s == np.nanmax(s.values), props, '')\n",
    "s2.apply(highlight_max, props='color:white;background-color:darkgreen', axis=0)"
   ]
  },
  {
   "cell_type": "code",
   "execution_count": 80,
   "id": "1af58f8c",
   "metadata": {},
   "outputs": [
    {
     "data": {
      "text/plain": [
       "Index(['INCIDENT_NUMBER', 'OFFENSE_CODE', 'OFFENSE_CODE_GROUP',\n",
       "       'OFFENSE_DESCRIPTION', 'DISTRICT', 'REPORTING_AREA', 'SHOOTING',\n",
       "       'OCCURRED_ON_DATE', 'YEAR', 'MONTH', 'DAY_OF_WEEK', 'HOUR', 'UCR_PART',\n",
       "       'STREET', 'Lat', 'Long', 'Location'],\n",
       "      dtype='object')"
      ]
     },
     "execution_count": 80,
     "metadata": {},
     "output_type": "execute_result"
    }
   ],
   "source": [
    "df.columns"
   ]
  },
  {
   "cell_type": "code",
   "execution_count": 86,
   "id": "dc251dfd",
   "metadata": {},
   "outputs": [],
   "source": [
    "# In which districts were the most crimes commmitted on yearly basis? \n",
    "district_year = df.groupby(['DISTRICT','YEAR']).count()['INCIDENT_NUMBER'].unstack()"
   ]
  },
  {
   "cell_type": "code",
   "execution_count": 87,
   "id": "14173ac6",
   "metadata": {},
   "outputs": [
    {
     "data": {
      "text/plain": [
       "<Axes: xlabel='YEAR', ylabel='DISTRICT'>"
      ]
     },
     "execution_count": 87,
     "metadata": {},
     "output_type": "execute_result"
    },
    {
     "data": {
      "image/png": "[encoded data removed]",
      "text/plain": [
       "<Figure size 640x480 with 2 Axes>"
      ]
     },
     "metadata": {},
     "output_type": "display_data"
    }
   ],
   "source": [
    "sns.heatmap(district_year,cmap = sns.cubehelix_palette(as_cmap=True))"
   ]
  },
  {
   "cell_type": "code",
   "execution_count": 90,
   "id": "81ccf4a6",
   "metadata": {},
   "outputs": [
    {
     "name": "stdout",
     "output_type": "stream",
     "text": [
      "The average number of crimes per district is 7976.25\n"
     ]
    },
    {
     "data": {
      "text/html": [
       "<style type=\"text/css\">\n",
       "#T_9a340_row0_col0, #T_9a340_row1_col0, #T_9a340_row1_col1, #T_9a340_row1_col2, #T_9a340_row1_col3, #T_9a340_row2_col0, #T_9a340_row2_col1, #T_9a340_row2_col2, #T_9a340_row2_col3, #T_9a340_row4_col0, #T_9a340_row6_col0, #T_9a340_row6_col3, #T_9a340_row7_col0, #T_9a340_row7_col1, #T_9a340_row7_col2, #T_9a340_row7_col3, #T_9a340_row9_col0, #T_9a340_row9_col1, #T_9a340_row9_col2, #T_9a340_row9_col3, #T_9a340_row10_col0, #T_9a340_row10_col1, #T_9a340_row10_col2, #T_9a340_row10_col3, #T_9a340_row11_col0, #T_9a340_row11_col1, #T_9a340_row11_col2, #T_9a340_row11_col3 {\n",
       "  color: blue;\n",
       "}\n",
       "</style>\n",
       "<table id=\"T_9a340\">\n",
       "  <thead>\n",
       "    <tr>\n",
       "      <th class=\"index_name level0\" >YEAR</th>\n",
       "      <th id=\"T_9a340_level0_col0\" class=\"col_heading level0 col0\" >2015</th>\n",
       "      <th id=\"T_9a340_level0_col1\" class=\"col_heading level0 col1\" >2016</th>\n",
       "      <th id=\"T_9a340_level0_col2\" class=\"col_heading level0 col2\" >2017</th>\n",
       "      <th id=\"T_9a340_level0_col3\" class=\"col_heading level0 col3\" >2018</th>\n",
       "    </tr>\n",
       "    <tr>\n",
       "      <th class=\"index_name level0\" >DISTRICT</th>\n",
       "      <th class=\"blank col0\" >&nbsp;</th>\n",
       "      <th class=\"blank col1\" >&nbsp;</th>\n",
       "      <th class=\"blank col2\" >&nbsp;</th>\n",
       "      <th class=\"blank col3\" >&nbsp;</th>\n",
       "    </tr>\n",
       "  </thead>\n",
       "  <tbody>\n",
       "    <tr>\n",
       "      <th id=\"T_9a340_level0_row0\" class=\"row_heading level0 row0\" >A1</th>\n",
       "      <td id=\"T_9a340_row0_col0\" class=\"data row0 col0\" >6010</td>\n",
       "      <td id=\"T_9a340_row0_col1\" class=\"data row0 col1\" >10922</td>\n",
       "      <td id=\"T_9a340_row0_col2\" class=\"data row0 col2\" >11374</td>\n",
       "      <td id=\"T_9a340_row0_col3\" class=\"data row0 col3\" >7404</td>\n",
       "    </tr>\n",
       "    <tr>\n",
       "      <th id=\"T_9a340_level0_row1\" class=\"row_heading level0 row1\" >A15</th>\n",
       "      <td id=\"T_9a340_row1_col0\" class=\"data row1 col0\" >1027</td>\n",
       "      <td id=\"T_9a340_row1_col1\" class=\"data row1 col1\" >1986</td>\n",
       "      <td id=\"T_9a340_row1_col2\" class=\"data row1 col2\" >2167</td>\n",
       "      <td id=\"T_9a340_row1_col3\" class=\"data row1 col3\" >1325</td>\n",
       "    </tr>\n",
       "    <tr>\n",
       "      <th id=\"T_9a340_level0_row2\" class=\"row_heading level0 row2\" >A7</th>\n",
       "      <td id=\"T_9a340_row2_col0\" class=\"data row2 col0\" >2426</td>\n",
       "      <td id=\"T_9a340_row2_col1\" class=\"data row2 col1\" >4130</td>\n",
       "      <td id=\"T_9a340_row2_col2\" class=\"data row2 col2\" >4264</td>\n",
       "      <td id=\"T_9a340_row2_col3\" class=\"data row2 col3\" >2724</td>\n",
       "    </tr>\n",
       "    <tr>\n",
       "      <th id=\"T_9a340_level0_row3\" class=\"row_heading level0 row3\" >B2</th>\n",
       "      <td id=\"T_9a340_row3_col0\" class=\"data row3 col0\" >8682</td>\n",
       "      <td id=\"T_9a340_row3_col1\" class=\"data row3 col1\" >15706</td>\n",
       "      <td id=\"T_9a340_row3_col2\" class=\"data row3 col2\" >15680</td>\n",
       "      <td id=\"T_9a340_row3_col3\" class=\"data row3 col3\" >9872</td>\n",
       "    </tr>\n",
       "    <tr>\n",
       "      <th id=\"T_9a340_level0_row4\" class=\"row_heading level0 row4\" >B3</th>\n",
       "      <td id=\"T_9a340_row4_col0\" class=\"data row4 col0\" >5616</td>\n",
       "      <td id=\"T_9a340_row4_col1\" class=\"data row4 col1\" >11145</td>\n",
       "      <td id=\"T_9a340_row4_col2\" class=\"data row4 col2\" >11195</td>\n",
       "      <td id=\"T_9a340_row4_col3\" class=\"data row4 col3\" >7485</td>\n",
       "    </tr>\n",
       "    <tr>\n",
       "      <th id=\"T_9a340_level0_row5\" class=\"row_heading level0 row5\" >C11</th>\n",
       "      <td id=\"T_9a340_row5_col0\" class=\"data row5 col0\" >7363</td>\n",
       "      <td id=\"T_9a340_row5_col1\" class=\"data row5 col1\" >13602</td>\n",
       "      <td id=\"T_9a340_row5_col2\" class=\"data row5 col2\" >13281</td>\n",
       "      <td id=\"T_9a340_row5_col3\" class=\"data row5 col3\" >8282</td>\n",
       "    </tr>\n",
       "    <tr>\n",
       "      <th id=\"T_9a340_level0_row6\" class=\"row_heading level0 row6\" >C6</th>\n",
       "      <td id=\"T_9a340_row6_col0\" class=\"data row6 col0\" >3939</td>\n",
       "      <td id=\"T_9a340_row6_col1\" class=\"data row6 col1\" >7072</td>\n",
       "      <td id=\"T_9a340_row6_col2\" class=\"data row6 col2\" >7247</td>\n",
       "      <td id=\"T_9a340_row6_col3\" class=\"data row6 col3\" >5199</td>\n",
       "    </tr>\n",
       "    <tr>\n",
       "      <th id=\"T_9a340_level0_row7\" class=\"row_heading level0 row7\" >D14</th>\n",
       "      <td id=\"T_9a340_row7_col0\" class=\"data row7 col0\" >3280</td>\n",
       "      <td id=\"T_9a340_row7_col1\" class=\"data row7 col1\" >6279</td>\n",
       "      <td id=\"T_9a340_row7_col2\" class=\"data row7 col2\" >6509</td>\n",
       "      <td id=\"T_9a340_row7_col3\" class=\"data row7 col3\" >4059</td>\n",
       "    </tr>\n",
       "    <tr>\n",
       "      <th id=\"T_9a340_level0_row8\" class=\"row_heading level0 row8\" >D4</th>\n",
       "      <td id=\"T_9a340_row8_col0\" class=\"data row8 col0\" >7203</td>\n",
       "      <td id=\"T_9a340_row8_col1\" class=\"data row8 col1\" >12953</td>\n",
       "      <td id=\"T_9a340_row8_col2\" class=\"data row8 col2\" >13157</td>\n",
       "      <td id=\"T_9a340_row8_col3\" class=\"data row8 col3\" >8601</td>\n",
       "    </tr>\n",
       "    <tr>\n",
       "      <th id=\"T_9a340_level0_row9\" class=\"row_heading level0 row9\" >E13</th>\n",
       "      <td id=\"T_9a340_row9_col0\" class=\"data row9 col0\" >2800</td>\n",
       "      <td id=\"T_9a340_row9_col1\" class=\"data row9 col1\" >5558</td>\n",
       "      <td id=\"T_9a340_row9_col2\" class=\"data row9 col2\" >5514</td>\n",
       "      <td id=\"T_9a340_row9_col3\" class=\"data row9 col3\" >3662</td>\n",
       "    </tr>\n",
       "    <tr>\n",
       "      <th id=\"T_9a340_level0_row10\" class=\"row_heading level0 row10\" >E18</th>\n",
       "      <td id=\"T_9a340_row10_col0\" class=\"data row10 col0\" >2740</td>\n",
       "      <td id=\"T_9a340_row10_col1\" class=\"data row10 col1\" >5223</td>\n",
       "      <td id=\"T_9a340_row10_col2\" class=\"data row10 col2\" >5611</td>\n",
       "      <td id=\"T_9a340_row10_col3\" class=\"data row10 col3\" >3773</td>\n",
       "    </tr>\n",
       "    <tr>\n",
       "      <th id=\"T_9a340_level0_row11\" class=\"row_heading level0 row11\" >E5</th>\n",
       "      <td id=\"T_9a340_row11_col0\" class=\"data row11 col0\" >2157</td>\n",
       "      <td id=\"T_9a340_row11_col1\" class=\"data row11 col1\" >4017</td>\n",
       "      <td id=\"T_9a340_row11_col2\" class=\"data row11 col2\" >4309</td>\n",
       "      <td id=\"T_9a340_row11_col3\" class=\"data row11 col3\" >2755</td>\n",
       "    </tr>\n",
       "  </tbody>\n",
       "</table>\n"
      ],
      "text/plain": [
       "<pandas.io.formats.style.Styler at 0x1e5374f0ad0>"
      ]
     },
     "execution_count": 90,
     "metadata": {},
     "output_type": "execute_result"
    }
   ],
   "source": [
    "#if the value is less than the average crime per dustrict, highlight the value in blue\n",
    "\n",
    "avg_crime_district = df.groupby(['DISTRICT', 'YEAR']).count()['INCIDENT_NUMBER'].mean()\n",
    "print(\"The average number of crimes per district is \" + str(avg_crime))\n",
    "\n",
    "def style_negative(v, props=''):\n",
    "    return props if v < avg_crime_district else None\n",
    "s3 = district_year.style.applymap(style_negative, props='color:blue;')\\\n",
    "              .applymap(lambda v: 'opacity: 20%;' if (v < 0.3) and (v > -0.3) else None)\n",
    "s3"
   ]
  },
  {
   "cell_type": "markdown",
   "id": "ceb63da4",
   "metadata": {},
   "source": [
    "## Observations"
   ]
  },
  {
   "cell_type": "markdown",
   "id": "cf3e9cd5",
   "metadata": {},
   "source": [
    "* The data accounts for crimes reported from the year **2015 to 2018** with **2017** recording the **highest** number of crimes.\n",
    "\n",
    "* **Most** of the crimes were **Motor Vehicle Accident Response** related.\n",
    "\n",
    "* **Less crimes** reported were associated with **Burglary - No Property Taken, Human Trafficking , Biological Threat**.\n",
    "\n",
    "* **Majority** of the offenses fell under the **description** of **SICK/INJURED/MEDICAL - PERSON**.\n",
    "\n",
    "* There was **higher** crime incidences on **Fridays**.\n",
    "\n",
    "* Crime incidents were **significantly higher** between **4PM and 6PM**.\n",
    "\n",
    "* The **average** number of crimes is **7976** incidents.\n",
    "\n",
    "* **B2 district** reported **above average** incidents throughout the years."
   ]
  },
  {
   "cell_type": "code",
   "execution_count": null,
   "id": "71ee0881",
   "metadata": {},
   "outputs": [],
   "source": []
  }
 ],
 "metadata": {
  "kernelspec": {
   "display_name": "Python 3 (ipykernel)",
   "language": "python",
   "name": "python3"
  },
  "language_info": {
   "codemirror_mode": {
    "name": "ipython",
    "version": 3
   },
   "file_extension": ".py",
   "mimetype": "text/x-python",
   "name": "python",
   "nbconvert_exporter": "python",
   "pygments_lexer": "ipython3",
   "version": "3.11.5"
  }
 },
 "nbformat": 4,
 "nbformat_minor": 5
}
